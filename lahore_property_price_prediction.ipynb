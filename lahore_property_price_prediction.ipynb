{
 "cells": [
  {
   "cell_type": "markdown",
   "id": "221fec60",
   "metadata": {},
   "source": [
    "**Our Problem Statement is to analyze the dataset of properties in Lahore and then building a model to predict its price using location, Area(Sq.ft), bedrooms, baths...**"
   ]
  },
  {
   "cell_type": "code",
   "execution_count": 29,
   "id": "665df72c",
   "metadata": {},
   "outputs": [],
   "source": [
    "import pandas as pd\n",
    "import numpy as np\n",
    "import matplotlib.pyplot as plt\n",
    "import seaborn as sns"
   ]
  },
  {
   "cell_type": "code",
   "execution_count": 30,
   "id": "e72c096f",
   "metadata": {},
   "outputs": [],
   "source": [
    "df = pd.read_csv('Property_with_Feature_Engineering.csv')"
   ]
  },
  {
   "cell_type": "code",
   "execution_count": 31,
   "id": "6c3aef43",
   "metadata": {},
   "outputs": [
    {
     "data": {
      "text/html": [
       "<div>\n",
       "<style scoped>\n",
       "    .dataframe tbody tr th:only-of-type {\n",
       "        vertical-align: middle;\n",
       "    }\n",
       "\n",
       "    .dataframe tbody tr th {\n",
       "        vertical-align: top;\n",
       "    }\n",
       "\n",
       "    .dataframe thead th {\n",
       "        text-align: right;\n",
       "    }\n",
       "</style>\n",
       "<table border=\"1\" class=\"dataframe\">\n",
       "  <thead>\n",
       "    <tr style=\"text-align: right;\">\n",
       "      <th></th>\n",
       "      <th>property_id</th>\n",
       "      <th>location_id</th>\n",
       "      <th>page_url</th>\n",
       "      <th>property_type</th>\n",
       "      <th>price</th>\n",
       "      <th>price_bin</th>\n",
       "      <th>location</th>\n",
       "      <th>city</th>\n",
       "      <th>province_name</th>\n",
       "      <th>locality</th>\n",
       "      <th>...</th>\n",
       "      <th>area_marla</th>\n",
       "      <th>area_sqft</th>\n",
       "      <th>purpose</th>\n",
       "      <th>bedrooms</th>\n",
       "      <th>date_added</th>\n",
       "      <th>year</th>\n",
       "      <th>month</th>\n",
       "      <th>day</th>\n",
       "      <th>agency</th>\n",
       "      <th>agent</th>\n",
       "    </tr>\n",
       "  </thead>\n",
       "  <tbody>\n",
       "    <tr>\n",
       "      <th>0</th>\n",
       "      <td>347795</td>\n",
       "      <td>8</td>\n",
       "      <td>https://www.zameen.com/Property/lahore_model_t...</td>\n",
       "      <td>House</td>\n",
       "      <td>220000000</td>\n",
       "      <td>Very High</td>\n",
       "      <td>Model Town</td>\n",
       "      <td>Lahore</td>\n",
       "      <td>Punjab</td>\n",
       "      <td>Model Town, Lahore, Punjab</td>\n",
       "      <td>...</td>\n",
       "      <td>120.0</td>\n",
       "      <td>32670.12</td>\n",
       "      <td>For Sale</td>\n",
       "      <td>0</td>\n",
       "      <td>07-17-2019</td>\n",
       "      <td>2019</td>\n",
       "      <td>7</td>\n",
       "      <td>17</td>\n",
       "      <td>Real Biz International</td>\n",
       "      <td>Usama Khan</td>\n",
       "    </tr>\n",
       "    <tr>\n",
       "      <th>1</th>\n",
       "      <td>482892</td>\n",
       "      <td>48</td>\n",
       "      <td>https://www.zameen.com/Property/lahore_multan_...</td>\n",
       "      <td>House</td>\n",
       "      <td>40000000</td>\n",
       "      <td>Very High</td>\n",
       "      <td>Multan Road</td>\n",
       "      <td>Lahore</td>\n",
       "      <td>Punjab</td>\n",
       "      <td>Multan Road, Lahore, Punjab</td>\n",
       "      <td>...</td>\n",
       "      <td>20.0</td>\n",
       "      <td>5445.02</td>\n",
       "      <td>For Sale</td>\n",
       "      <td>5</td>\n",
       "      <td>10-06-2018</td>\n",
       "      <td>2018</td>\n",
       "      <td>10</td>\n",
       "      <td>6</td>\n",
       "      <td>Khan Estate</td>\n",
       "      <td>mohsinkhan and B</td>\n",
       "    </tr>\n",
       "  </tbody>\n",
       "</table>\n",
       "<p>2 rows × 24 columns</p>\n",
       "</div>"
      ],
      "text/plain": [
       "   property_id  location_id  \\\n",
       "0       347795            8   \n",
       "1       482892           48   \n",
       "\n",
       "                                            page_url property_type      price  \\\n",
       "0  https://www.zameen.com/Property/lahore_model_t...         House  220000000   \n",
       "1  https://www.zameen.com/Property/lahore_multan_...         House   40000000   \n",
       "\n",
       "   price_bin     location    city province_name                     locality  \\\n",
       "0  Very High   Model Town  Lahore        Punjab   Model Town, Lahore, Punjab   \n",
       "1  Very High  Multan Road  Lahore        Punjab  Multan Road, Lahore, Punjab   \n",
       "\n",
       "   ...  area_marla  area_sqft   purpose bedrooms  date_added  year month  day  \\\n",
       "0  ...       120.0   32670.12  For Sale        0  07-17-2019  2019     7   17   \n",
       "1  ...        20.0    5445.02  For Sale        5  10-06-2018  2018    10    6   \n",
       "\n",
       "                   agency             agent  \n",
       "0  Real Biz International        Usama Khan  \n",
       "1             Khan Estate  mohsinkhan and B  \n",
       "\n",
       "[2 rows x 24 columns]"
      ]
     },
     "execution_count": 31,
     "metadata": {},
     "output_type": "execute_result"
    }
   ],
   "source": [
    "df.head(2)"
   ]
  },
  {
   "cell_type": "code",
   "execution_count": 32,
   "id": "4481bbbc",
   "metadata": {},
   "outputs": [
    {
     "name": "stdout",
     "output_type": "stream",
     "text": [
      "['Lahore' 'Karachi' 'Islamabad' 'Faisalabad' 'Rawalpindi']\n"
     ]
    }
   ],
   "source": [
    "## Checking which cities of Pakistan are present in the dataset\n",
    "print(df['city'].unique())\n"
   ]
  },
  {
   "cell_type": "code",
   "execution_count": 33,
   "id": "82dc5b0e",
   "metadata": {},
   "outputs": [
    {
     "data": {
      "text/plain": [
       "(191393, 24)"
      ]
     },
     "execution_count": 33,
     "metadata": {},
     "output_type": "execute_result"
    }
   ],
   "source": [
    "df.shape"
   ]
  },
  {
   "cell_type": "code",
   "execution_count": 37,
   "id": "68e36ffd",
   "metadata": {},
   "outputs": [
    {
     "data": {
      "text/plain": [
       "(58736, 24)"
      ]
     },
     "execution_count": 37,
     "metadata": {},
     "output_type": "execute_result"
    }
   ],
   "source": [
    "data = df[df['city']=='Lahore']\n",
    "data.shape"
   ]
  },
  {
   "cell_type": "code",
   "execution_count": 38,
   "id": "13a2caea",
   "metadata": {},
   "outputs": [],
   "source": [
    "# dropping unnecessary columns\n",
    "\n",
    "col_names = [\"location_id\",\"page_url\",\"province_name\",\"locality\",\"area_marla\",\"year\",\"month\",\"day\",\"agency\",\"agent\",\"latitude\",\"longitude\",\"property_id\",\"property_type\",\"price_bin\",\"purpose\",\"date_added\",\"city\",\"area\"]\n",
    "data = data.drop(col_names, axis=1)"
   ]
  },
  {
   "cell_type": "code",
   "execution_count": 39,
   "id": "d04785b8",
   "metadata": {},
   "outputs": [
    {
     "data": {
      "text/html": [
       "<div>\n",
       "<style scoped>\n",
       "    .dataframe tbody tr th:only-of-type {\n",
       "        vertical-align: middle;\n",
       "    }\n",
       "\n",
       "    .dataframe tbody tr th {\n",
       "        vertical-align: top;\n",
       "    }\n",
       "\n",
       "    .dataframe thead th {\n",
       "        text-align: right;\n",
       "    }\n",
       "</style>\n",
       "<table border=\"1\" class=\"dataframe\">\n",
       "  <thead>\n",
       "    <tr style=\"text-align: right;\">\n",
       "      <th></th>\n",
       "      <th>price</th>\n",
       "      <th>location</th>\n",
       "      <th>baths</th>\n",
       "      <th>area_sqft</th>\n",
       "      <th>bedrooms</th>\n",
       "    </tr>\n",
       "  </thead>\n",
       "  <tbody>\n",
       "    <tr>\n",
       "      <th>0</th>\n",
       "      <td>220000000</td>\n",
       "      <td>Model Town</td>\n",
       "      <td>0</td>\n",
       "      <td>32670.12</td>\n",
       "      <td>0</td>\n",
       "    </tr>\n",
       "    <tr>\n",
       "      <th>1</th>\n",
       "      <td>40000000</td>\n",
       "      <td>Multan Road</td>\n",
       "      <td>5</td>\n",
       "      <td>5445.02</td>\n",
       "      <td>5</td>\n",
       "    </tr>\n",
       "    <tr>\n",
       "      <th>2</th>\n",
       "      <td>9500000</td>\n",
       "      <td>Eden</td>\n",
       "      <td>0</td>\n",
       "      <td>2450.26</td>\n",
       "      <td>3</td>\n",
       "    </tr>\n",
       "    <tr>\n",
       "      <th>3</th>\n",
       "      <td>125000000</td>\n",
       "      <td>Gulberg</td>\n",
       "      <td>7</td>\n",
       "      <td>5445.02</td>\n",
       "      <td>8</td>\n",
       "    </tr>\n",
       "    <tr>\n",
       "      <th>4</th>\n",
       "      <td>21000000</td>\n",
       "      <td>Allama Iqbal Town</td>\n",
       "      <td>5</td>\n",
       "      <td>2994.76</td>\n",
       "      <td>6</td>\n",
       "    </tr>\n",
       "  </tbody>\n",
       "</table>\n",
       "</div>"
      ],
      "text/plain": [
       "       price           location  baths  area_sqft  bedrooms\n",
       "0  220000000         Model Town      0   32670.12         0\n",
       "1   40000000        Multan Road      5    5445.02         5\n",
       "2    9500000               Eden      0    2450.26         3\n",
       "3  125000000            Gulberg      7    5445.02         8\n",
       "4   21000000  Allama Iqbal Town      5    2994.76         6"
      ]
     },
     "execution_count": 39,
     "metadata": {},
     "output_type": "execute_result"
    }
   ],
   "source": [
    "data = data.reset_index()\n",
    "data = data.drop(\"index\",axis=1)\n",
    "data.head()"
   ]
  },
  {
   "cell_type": "code",
   "execution_count": 40,
   "id": "d9f14bbc",
   "metadata": {},
   "outputs": [
    {
     "data": {
      "text/plain": [
       "price        0\n",
       "location     0\n",
       "baths        0\n",
       "area_sqft    0\n",
       "bedrooms     0\n",
       "dtype: int64"
      ]
     },
     "execution_count": 40,
     "metadata": {},
     "output_type": "execute_result"
    }
   ],
   "source": [
    "data.isnull().sum()"
   ]
  },
  {
   "cell_type": "code",
   "execution_count": 41,
   "id": "813cd051",
   "metadata": {},
   "outputs": [
    {
     "data": {
      "text/plain": [
       "array([ 0,  5,  3,  8,  6,  4,  2,  7,  1, 10, 11,  9, 14, 12, 13, 18, 15,\n",
       "       16, 25, 20])"
      ]
     },
     "execution_count": 41,
     "metadata": {},
     "output_type": "execute_result"
    }
   ],
   "source": [
    "data['bedrooms'].unique()"
   ]
  },
  {
   "cell_type": "markdown",
   "id": "4cdfcdbc",
   "metadata": {},
   "source": [
    "In the above cell, there are some properties which have bedrooms even greater than 10...This could be possible that some of them could be typo error while others can be having other errors in them as well like very less baths or no baths...Lets inspect the properties that are having bedrooms more than 13"
   ]
  },
  {
   "cell_type": "code",
   "execution_count": 42,
   "id": "d3784b7f",
   "metadata": {},
   "outputs": [
    {
     "data": {
      "text/html": [
       "<div>\n",
       "<style scoped>\n",
       "    .dataframe tbody tr th:only-of-type {\n",
       "        vertical-align: middle;\n",
       "    }\n",
       "\n",
       "    .dataframe tbody tr th {\n",
       "        vertical-align: top;\n",
       "    }\n",
       "\n",
       "    .dataframe thead th {\n",
       "        text-align: right;\n",
       "    }\n",
       "</style>\n",
       "<table border=\"1\" class=\"dataframe\">\n",
       "  <thead>\n",
       "    <tr style=\"text-align: right;\">\n",
       "      <th></th>\n",
       "      <th>price</th>\n",
       "      <th>location</th>\n",
       "      <th>baths</th>\n",
       "      <th>area_sqft</th>\n",
       "      <th>bedrooms</th>\n",
       "    </tr>\n",
       "  </thead>\n",
       "  <tbody>\n",
       "    <tr>\n",
       "      <th>1099</th>\n",
       "      <td>100000000</td>\n",
       "      <td>Garden Town</td>\n",
       "      <td>0</td>\n",
       "      <td>10890.04</td>\n",
       "      <td>14</td>\n",
       "    </tr>\n",
       "    <tr>\n",
       "      <th>19710</th>\n",
       "      <td>650000000</td>\n",
       "      <td>Gulberg</td>\n",
       "      <td>0</td>\n",
       "      <td>25047.09</td>\n",
       "      <td>18</td>\n",
       "    </tr>\n",
       "    <tr>\n",
       "      <th>21817</th>\n",
       "      <td>175000000</td>\n",
       "      <td>Shah Jamal</td>\n",
       "      <td>0</td>\n",
       "      <td>26136.10</td>\n",
       "      <td>15</td>\n",
       "    </tr>\n",
       "    <tr>\n",
       "      <th>28454</th>\n",
       "      <td>350000000</td>\n",
       "      <td>Gulberg</td>\n",
       "      <td>0</td>\n",
       "      <td>17424.06</td>\n",
       "      <td>16</td>\n",
       "    </tr>\n",
       "    <tr>\n",
       "      <th>38558</th>\n",
       "      <td>175000000</td>\n",
       "      <td>Shah Jamal</td>\n",
       "      <td>0</td>\n",
       "      <td>26136.10</td>\n",
       "      <td>15</td>\n",
       "    </tr>\n",
       "    <tr>\n",
       "      <th>39985</th>\n",
       "      <td>960000000</td>\n",
       "      <td>Gulberg</td>\n",
       "      <td>0</td>\n",
       "      <td>43560.16</td>\n",
       "      <td>25</td>\n",
       "    </tr>\n",
       "    <tr>\n",
       "      <th>51998</th>\n",
       "      <td>960000000</td>\n",
       "      <td>Gulberg</td>\n",
       "      <td>0</td>\n",
       "      <td>43560.16</td>\n",
       "      <td>25</td>\n",
       "    </tr>\n",
       "    <tr>\n",
       "      <th>53342</th>\n",
       "      <td>1000000</td>\n",
       "      <td>Gulberg</td>\n",
       "      <td>0</td>\n",
       "      <td>21780.08</td>\n",
       "      <td>20</td>\n",
       "    </tr>\n",
       "    <tr>\n",
       "      <th>57580</th>\n",
       "      <td>300000</td>\n",
       "      <td>Habibullah Road</td>\n",
       "      <td>0</td>\n",
       "      <td>8712.03</td>\n",
       "      <td>20</td>\n",
       "    </tr>\n",
       "  </tbody>\n",
       "</table>\n",
       "</div>"
      ],
      "text/plain": [
       "           price         location  baths  area_sqft  bedrooms\n",
       "1099   100000000      Garden Town      0   10890.04        14\n",
       "19710  650000000          Gulberg      0   25047.09        18\n",
       "21817  175000000       Shah Jamal      0   26136.10        15\n",
       "28454  350000000          Gulberg      0   17424.06        16\n",
       "38558  175000000       Shah Jamal      0   26136.10        15\n",
       "39985  960000000          Gulberg      0   43560.16        25\n",
       "51998  960000000          Gulberg      0   43560.16        25\n",
       "53342    1000000          Gulberg      0   21780.08        20\n",
       "57580     300000  Habibullah Road      0    8712.03        20"
      ]
     },
     "execution_count": 42,
     "metadata": {},
     "output_type": "execute_result"
    }
   ],
   "source": [
    "data[data['bedrooms']>13]"
   ]
  },
  {
   "cell_type": "code",
   "execution_count": 43,
   "id": "8e0d3dae",
   "metadata": {},
   "outputs": [
    {
     "data": {
      "text/plain": [
       "array([ 0,  5,  7,  6,  4,  3,  2,  8,  1, 10,  9, 11, 12, 15])"
      ]
     },
     "execution_count": 43,
     "metadata": {},
     "output_type": "execute_result"
    }
   ],
   "source": [
    "data['baths'].unique()"
   ]
  },
  {
   "cell_type": "code",
   "execution_count": 44,
   "id": "33be470e",
   "metadata": {},
   "outputs": [
    {
     "data": {
      "text/html": [
       "<div>\n",
       "<style scoped>\n",
       "    .dataframe tbody tr th:only-of-type {\n",
       "        vertical-align: middle;\n",
       "    }\n",
       "\n",
       "    .dataframe tbody tr th {\n",
       "        vertical-align: top;\n",
       "    }\n",
       "\n",
       "    .dataframe thead th {\n",
       "        text-align: right;\n",
       "    }\n",
       "</style>\n",
       "<table border=\"1\" class=\"dataframe\">\n",
       "  <thead>\n",
       "    <tr style=\"text-align: right;\">\n",
       "      <th></th>\n",
       "      <th>price</th>\n",
       "      <th>location</th>\n",
       "      <th>baths</th>\n",
       "      <th>area_sqft</th>\n",
       "      <th>bedrooms</th>\n",
       "    </tr>\n",
       "  </thead>\n",
       "  <tbody>\n",
       "    <tr>\n",
       "      <th>0</th>\n",
       "      <td>220000000</td>\n",
       "      <td>Model Town</td>\n",
       "      <td>0</td>\n",
       "      <td>32670.12</td>\n",
       "      <td>0</td>\n",
       "    </tr>\n",
       "    <tr>\n",
       "      <th>1</th>\n",
       "      <td>40000000</td>\n",
       "      <td>Multan Road</td>\n",
       "      <td>5</td>\n",
       "      <td>5445.02</td>\n",
       "      <td>5</td>\n",
       "    </tr>\n",
       "    <tr>\n",
       "      <th>2</th>\n",
       "      <td>9500000</td>\n",
       "      <td>Eden</td>\n",
       "      <td>0</td>\n",
       "      <td>2450.26</td>\n",
       "      <td>3</td>\n",
       "    </tr>\n",
       "    <tr>\n",
       "      <th>3</th>\n",
       "      <td>125000000</td>\n",
       "      <td>Gulberg</td>\n",
       "      <td>7</td>\n",
       "      <td>5445.02</td>\n",
       "      <td>8</td>\n",
       "    </tr>\n",
       "    <tr>\n",
       "      <th>4</th>\n",
       "      <td>21000000</td>\n",
       "      <td>Allama Iqbal Town</td>\n",
       "      <td>5</td>\n",
       "      <td>2994.76</td>\n",
       "      <td>6</td>\n",
       "    </tr>\n",
       "    <tr>\n",
       "      <th>...</th>\n",
       "      <td>...</td>\n",
       "      <td>...</td>\n",
       "      <td>...</td>\n",
       "      <td>...</td>\n",
       "      <td>...</td>\n",
       "    </tr>\n",
       "    <tr>\n",
       "      <th>58730</th>\n",
       "      <td>32000</td>\n",
       "      <td>Allama Iqbal Town</td>\n",
       "      <td>0</td>\n",
       "      <td>2722.51</td>\n",
       "      <td>2</td>\n",
       "    </tr>\n",
       "    <tr>\n",
       "      <th>58732</th>\n",
       "      <td>185000</td>\n",
       "      <td>DHA Defence</td>\n",
       "      <td>6</td>\n",
       "      <td>5445.02</td>\n",
       "      <td>5</td>\n",
       "    </tr>\n",
       "    <tr>\n",
       "      <th>58733</th>\n",
       "      <td>150000</td>\n",
       "      <td>DHA Defence</td>\n",
       "      <td>5</td>\n",
       "      <td>2722.51</td>\n",
       "      <td>4</td>\n",
       "    </tr>\n",
       "    <tr>\n",
       "      <th>58734</th>\n",
       "      <td>70000</td>\n",
       "      <td>DHA Defence</td>\n",
       "      <td>3</td>\n",
       "      <td>5445.02</td>\n",
       "      <td>3</td>\n",
       "    </tr>\n",
       "    <tr>\n",
       "      <th>58735</th>\n",
       "      <td>70000</td>\n",
       "      <td>Bahria Town</td>\n",
       "      <td>4</td>\n",
       "      <td>1361.25</td>\n",
       "      <td>3</td>\n",
       "    </tr>\n",
       "  </tbody>\n",
       "</table>\n",
       "<p>54407 rows × 5 columns</p>\n",
       "</div>"
      ],
      "text/plain": [
       "           price           location  baths  area_sqft  bedrooms\n",
       "0      220000000         Model Town      0   32670.12         0\n",
       "1       40000000        Multan Road      5    5445.02         5\n",
       "2        9500000               Eden      0    2450.26         3\n",
       "3      125000000            Gulberg      7    5445.02         8\n",
       "4       21000000  Allama Iqbal Town      5    2994.76         6\n",
       "...          ...                ...    ...        ...       ...\n",
       "58730      32000  Allama Iqbal Town      0    2722.51         2\n",
       "58732     185000        DHA Defence      6    5445.02         5\n",
       "58733     150000        DHA Defence      5    2722.51         4\n",
       "58734      70000        DHA Defence      3    5445.02         3\n",
       "58735      70000        Bahria Town      4    1361.25         3\n",
       "\n",
       "[54407 rows x 5 columns]"
      ]
     },
     "execution_count": 44,
     "metadata": {},
     "output_type": "execute_result"
    }
   ],
   "source": [
    "data = data.drop(data[(data['baths']==0) & (data['bedrooms'] > 3)].index)\n",
    "data"
   ]
  },
  {
   "cell_type": "markdown",
   "id": "2cc7d463",
   "metadata": {},
   "source": [
    "In the above cell we have dropped those indexes that are having no baths and having bedrooms greater than 3 cause they can probably be a typo error."
   ]
  },
  {
   "cell_type": "code",
   "execution_count": 45,
   "id": "c3d1ec1d",
   "metadata": {},
   "outputs": [],
   "source": [
    "data.drop(data[data['bedrooms']==0 | (data['baths']==0)].index, inplace=True)\n"
   ]
  },
  {
   "cell_type": "markdown",
   "id": "10c71746",
   "metadata": {},
   "source": [
    "We have also dropped those properties that are either having no bedrooms or no baths in the above cell..."
   ]
  },
  {
   "cell_type": "code",
   "execution_count": 47,
   "id": "9a63ae1a",
   "metadata": {},
   "outputs": [
    {
     "data": {
      "text/html": [
       "<div>\n",
       "<style scoped>\n",
       "    .dataframe tbody tr th:only-of-type {\n",
       "        vertical-align: middle;\n",
       "    }\n",
       "\n",
       "    .dataframe tbody tr th {\n",
       "        vertical-align: top;\n",
       "    }\n",
       "\n",
       "    .dataframe thead th {\n",
       "        text-align: right;\n",
       "    }\n",
       "</style>\n",
       "<table border=\"1\" class=\"dataframe\">\n",
       "  <thead>\n",
       "    <tr style=\"text-align: right;\">\n",
       "      <th></th>\n",
       "      <th>price</th>\n",
       "      <th>location</th>\n",
       "      <th>baths</th>\n",
       "      <th>area_sqft</th>\n",
       "      <th>bedrooms</th>\n",
       "    </tr>\n",
       "  </thead>\n",
       "  <tbody>\n",
       "    <tr>\n",
       "      <th>5</th>\n",
       "      <td>52000000</td>\n",
       "      <td>Gulberg</td>\n",
       "      <td>6</td>\n",
       "      <td>5445.02</td>\n",
       "      <td>5</td>\n",
       "    </tr>\n",
       "    <tr>\n",
       "      <th>6</th>\n",
       "      <td>16500000</td>\n",
       "      <td>Military Accounts Housing Society</td>\n",
       "      <td>7</td>\n",
       "      <td>2178.01</td>\n",
       "      <td>6</td>\n",
       "    </tr>\n",
       "    <tr>\n",
       "      <th>11</th>\n",
       "      <td>87500000</td>\n",
       "      <td>Upper Mall</td>\n",
       "      <td>5</td>\n",
       "      <td>6534.02</td>\n",
       "      <td>4</td>\n",
       "    </tr>\n",
       "    <tr>\n",
       "      <th>17</th>\n",
       "      <td>50000000</td>\n",
       "      <td>Agrics Town</td>\n",
       "      <td>7</td>\n",
       "      <td>4900.52</td>\n",
       "      <td>6</td>\n",
       "    </tr>\n",
       "    <tr>\n",
       "      <th>19</th>\n",
       "      <td>27500000</td>\n",
       "      <td>Askari</td>\n",
       "      <td>5</td>\n",
       "      <td>3267.01</td>\n",
       "      <td>4</td>\n",
       "    </tr>\n",
       "    <tr>\n",
       "      <th>21</th>\n",
       "      <td>50000000</td>\n",
       "      <td>Upper Mall</td>\n",
       "      <td>6</td>\n",
       "      <td>5445.02</td>\n",
       "      <td>5</td>\n",
       "    </tr>\n",
       "    <tr>\n",
       "      <th>22</th>\n",
       "      <td>45000000</td>\n",
       "      <td>Askari</td>\n",
       "      <td>6</td>\n",
       "      <td>5445.02</td>\n",
       "      <td>5</td>\n",
       "    </tr>\n",
       "    <tr>\n",
       "      <th>24</th>\n",
       "      <td>21200000</td>\n",
       "      <td>Askari</td>\n",
       "      <td>4</td>\n",
       "      <td>2722.51</td>\n",
       "      <td>3</td>\n",
       "    </tr>\n",
       "    <tr>\n",
       "      <th>25</th>\n",
       "      <td>23000000</td>\n",
       "      <td>Askari</td>\n",
       "      <td>5</td>\n",
       "      <td>2722.51</td>\n",
       "      <td>4</td>\n",
       "    </tr>\n",
       "    <tr>\n",
       "      <th>26</th>\n",
       "      <td>21500000</td>\n",
       "      <td>Askari</td>\n",
       "      <td>5</td>\n",
       "      <td>2722.51</td>\n",
       "      <td>4</td>\n",
       "    </tr>\n",
       "    <tr>\n",
       "      <th>27</th>\n",
       "      <td>21500000</td>\n",
       "      <td>Askari</td>\n",
       "      <td>5</td>\n",
       "      <td>2722.51</td>\n",
       "      <td>4</td>\n",
       "    </tr>\n",
       "    <tr>\n",
       "      <th>28</th>\n",
       "      <td>40000000</td>\n",
       "      <td>Askari</td>\n",
       "      <td>6</td>\n",
       "      <td>5445.02</td>\n",
       "      <td>5</td>\n",
       "    </tr>\n",
       "    <tr>\n",
       "      <th>29</th>\n",
       "      <td>26000000</td>\n",
       "      <td>Askari</td>\n",
       "      <td>5</td>\n",
       "      <td>2722.51</td>\n",
       "      <td>4</td>\n",
       "    </tr>\n",
       "    <tr>\n",
       "      <th>31</th>\n",
       "      <td>23000000</td>\n",
       "      <td>Askari</td>\n",
       "      <td>5</td>\n",
       "      <td>2722.51</td>\n",
       "      <td>4</td>\n",
       "    </tr>\n",
       "    <tr>\n",
       "      <th>32</th>\n",
       "      <td>23000000</td>\n",
       "      <td>Askari</td>\n",
       "      <td>6</td>\n",
       "      <td>2722.51</td>\n",
       "      <td>5</td>\n",
       "    </tr>\n",
       "    <tr>\n",
       "      <th>36</th>\n",
       "      <td>50000000</td>\n",
       "      <td>Gulberg</td>\n",
       "      <td>6</td>\n",
       "      <td>5445.02</td>\n",
       "      <td>5</td>\n",
       "    </tr>\n",
       "    <tr>\n",
       "      <th>43</th>\n",
       "      <td>40000000</td>\n",
       "      <td>EME Society</td>\n",
       "      <td>7</td>\n",
       "      <td>5445.02</td>\n",
       "      <td>6</td>\n",
       "    </tr>\n",
       "    <tr>\n",
       "      <th>44</th>\n",
       "      <td>180000000</td>\n",
       "      <td>Gulberg</td>\n",
       "      <td>7</td>\n",
       "      <td>25591.59</td>\n",
       "      <td>5</td>\n",
       "    </tr>\n",
       "    <tr>\n",
       "      <th>45</th>\n",
       "      <td>17000000</td>\n",
       "      <td>Mateen Avenue</td>\n",
       "      <td>6</td>\n",
       "      <td>2640.83</td>\n",
       "      <td>5</td>\n",
       "    </tr>\n",
       "    <tr>\n",
       "      <th>48</th>\n",
       "      <td>25000000</td>\n",
       "      <td>IEP Engineers Town</td>\n",
       "      <td>5</td>\n",
       "      <td>4900.52</td>\n",
       "      <td>4</td>\n",
       "    </tr>\n",
       "    <tr>\n",
       "      <th>49</th>\n",
       "      <td>17600000</td>\n",
       "      <td>Bahria Town</td>\n",
       "      <td>6</td>\n",
       "      <td>2722.51</td>\n",
       "      <td>5</td>\n",
       "    </tr>\n",
       "    <tr>\n",
       "      <th>50</th>\n",
       "      <td>17500000</td>\n",
       "      <td>Bahria Town</td>\n",
       "      <td>6</td>\n",
       "      <td>2722.51</td>\n",
       "      <td>5</td>\n",
       "    </tr>\n",
       "    <tr>\n",
       "      <th>51</th>\n",
       "      <td>35000000</td>\n",
       "      <td>Askari</td>\n",
       "      <td>5</td>\n",
       "      <td>4628.27</td>\n",
       "      <td>4</td>\n",
       "    </tr>\n",
       "    <tr>\n",
       "      <th>52</th>\n",
       "      <td>22000000</td>\n",
       "      <td>Askari</td>\n",
       "      <td>5</td>\n",
       "      <td>2722.51</td>\n",
       "      <td>4</td>\n",
       "    </tr>\n",
       "    <tr>\n",
       "      <th>53</th>\n",
       "      <td>23500000</td>\n",
       "      <td>Askari</td>\n",
       "      <td>6</td>\n",
       "      <td>2722.51</td>\n",
       "      <td>5</td>\n",
       "    </tr>\n",
       "  </tbody>\n",
       "</table>\n",
       "</div>"
      ],
      "text/plain": [
       "        price                           location  baths  area_sqft  bedrooms\n",
       "5    52000000                            Gulberg      6    5445.02         5\n",
       "6    16500000  Military Accounts Housing Society      7    2178.01         6\n",
       "11   87500000                         Upper Mall      5    6534.02         4\n",
       "17   50000000                        Agrics Town      7    4900.52         6\n",
       "19   27500000                             Askari      5    3267.01         4\n",
       "21   50000000                         Upper Mall      6    5445.02         5\n",
       "22   45000000                             Askari      6    5445.02         5\n",
       "24   21200000                             Askari      4    2722.51         3\n",
       "25   23000000                             Askari      5    2722.51         4\n",
       "26   21500000                             Askari      5    2722.51         4\n",
       "27   21500000                             Askari      5    2722.51         4\n",
       "28   40000000                             Askari      6    5445.02         5\n",
       "29   26000000                             Askari      5    2722.51         4\n",
       "31   23000000                             Askari      5    2722.51         4\n",
       "32   23000000                             Askari      6    2722.51         5\n",
       "36   50000000                            Gulberg      6    5445.02         5\n",
       "43   40000000                        EME Society      7    5445.02         6\n",
       "44  180000000                            Gulberg      7   25591.59         5\n",
       "45   17000000                      Mateen Avenue      6    2640.83         5\n",
       "48   25000000                 IEP Engineers Town      5    4900.52         4\n",
       "49   17600000                        Bahria Town      6    2722.51         5\n",
       "50   17500000                        Bahria Town      6    2722.51         5\n",
       "51   35000000                             Askari      5    4628.27         4\n",
       "52   22000000                             Askari      5    2722.51         4\n",
       "53   23500000                             Askari      6    2722.51         5"
      ]
     },
     "execution_count": 47,
     "metadata": {},
     "output_type": "execute_result"
    }
   ],
   "source": [
    "data[data[\"baths\"] > data[\"bedrooms\"]].head(25)"
   ]
  },
  {
   "cell_type": "markdown",
   "id": "46c117eb",
   "metadata": {},
   "source": [
    "Look at the above cell , as there are more number of baths than bedrooms and its very uncommon"
   ]
  },
  {
   "cell_type": "code",
   "execution_count": 48,
   "id": "ce298b04",
   "metadata": {},
   "outputs": [],
   "source": [
    "data['Price_per_sqft'] = data['price']/data['area_sqft']"
   ]
  },
  {
   "cell_type": "code",
   "execution_count": 49,
   "id": "ba3071c0",
   "metadata": {},
   "outputs": [
    {
     "data": {
      "text/html": [
       "<div>\n",
       "<style scoped>\n",
       "    .dataframe tbody tr th:only-of-type {\n",
       "        vertical-align: middle;\n",
       "    }\n",
       "\n",
       "    .dataframe tbody tr th {\n",
       "        vertical-align: top;\n",
       "    }\n",
       "\n",
       "    .dataframe thead th {\n",
       "        text-align: right;\n",
       "    }\n",
       "</style>\n",
       "<table border=\"1\" class=\"dataframe\">\n",
       "  <thead>\n",
       "    <tr style=\"text-align: right;\">\n",
       "      <th></th>\n",
       "      <th>price</th>\n",
       "      <th>location</th>\n",
       "      <th>baths</th>\n",
       "      <th>area_sqft</th>\n",
       "      <th>bedrooms</th>\n",
       "      <th>Price_per_sqft</th>\n",
       "    </tr>\n",
       "  </thead>\n",
       "  <tbody>\n",
       "    <tr>\n",
       "      <th>0</th>\n",
       "      <td>220000000</td>\n",
       "      <td>Model Town</td>\n",
       "      <td>0</td>\n",
       "      <td>32670.12</td>\n",
       "      <td>0</td>\n",
       "      <td>6733.981999</td>\n",
       "    </tr>\n",
       "    <tr>\n",
       "      <th>1</th>\n",
       "      <td>40000000</td>\n",
       "      <td>Multan Road</td>\n",
       "      <td>5</td>\n",
       "      <td>5445.02</td>\n",
       "      <td>5</td>\n",
       "      <td>7346.162181</td>\n",
       "    </tr>\n",
       "    <tr>\n",
       "      <th>2</th>\n",
       "      <td>9500000</td>\n",
       "      <td>Eden</td>\n",
       "      <td>0</td>\n",
       "      <td>2450.26</td>\n",
       "      <td>3</td>\n",
       "      <td>3877.139569</td>\n",
       "    </tr>\n",
       "    <tr>\n",
       "      <th>3</th>\n",
       "      <td>125000000</td>\n",
       "      <td>Gulberg</td>\n",
       "      <td>7</td>\n",
       "      <td>5445.02</td>\n",
       "      <td>8</td>\n",
       "      <td>22956.756816</td>\n",
       "    </tr>\n",
       "    <tr>\n",
       "      <th>4</th>\n",
       "      <td>21000000</td>\n",
       "      <td>Allama Iqbal Town</td>\n",
       "      <td>5</td>\n",
       "      <td>2994.76</td>\n",
       "      <td>6</td>\n",
       "      <td>7012.248060</td>\n",
       "    </tr>\n",
       "  </tbody>\n",
       "</table>\n",
       "</div>"
      ],
      "text/plain": [
       "       price           location  baths  area_sqft  bedrooms  Price_per_sqft\n",
       "0  220000000         Model Town      0   32670.12         0     6733.981999\n",
       "1   40000000        Multan Road      5    5445.02         5     7346.162181\n",
       "2    9500000               Eden      0    2450.26         3     3877.139569\n",
       "3  125000000            Gulberg      7    5445.02         8    22956.756816\n",
       "4   21000000  Allama Iqbal Town      5    2994.76         6     7012.248060"
      ]
     },
     "execution_count": 49,
     "metadata": {},
     "output_type": "execute_result"
    }
   ],
   "source": [
    "data.head()"
   ]
  },
  {
   "cell_type": "markdown",
   "id": "504cca16",
   "metadata": {},
   "source": [
    "In the above cell, We have added one new column for our Feature Engineering so that we can remove outliers easily."
   ]
  },
  {
   "cell_type": "code",
   "execution_count": 50,
   "id": "d956863b",
   "metadata": {},
   "outputs": [
    {
     "data": {
      "text/plain": [
       "637"
      ]
     },
     "execution_count": 50,
     "metadata": {},
     "output_type": "execute_result"
    }
   ],
   "source": [
    "len(data['location'].unique())"
   ]
  },
  {
   "cell_type": "code",
   "execution_count": 51,
   "id": "12c3df38",
   "metadata": {},
   "outputs": [
    {
     "data": {
      "text/plain": [
       "location\n",
       "DHA Defence                   10666\n",
       "Bahria Town                    6178\n",
       "Johar Town                     2830\n",
       "Askari                         1592\n",
       "Allama Iqbal Town              1324\n",
       "Wapda Town                     1277\n",
       "Gulberg                        1209\n",
       "State Life Housing Society     1067\n",
       "Model Town                      940\n",
       "Cantt                           869\n",
       "Al Rehman Garden                783\n",
       "Paragon City                    783\n",
       "Sabzazar Scheme                 625\n",
       "Samanabad                       607\n",
       "Pak Arab Housing Society        587\n",
       "Bahria Orchard                  584\n",
       "Eden                            538\n",
       "Valencia Housing Society        483\n",
       "DHA 11 Rahbar                   471\n",
       "Township                        470\n",
       "Name: location, dtype: int64"
      ]
     },
     "execution_count": 51,
     "metadata": {},
     "output_type": "execute_result"
    }
   ],
   "source": [
    "data['location'] = data['location'].apply(lambda x: x.strip())\n",
    "location_stats = data.groupby('location')['location'].agg('count').sort_values(ascending=False)\n",
    "location_stats.head(20)"
   ]
  },
  {
   "cell_type": "code",
   "execution_count": 52,
   "id": "53980c26",
   "metadata": {},
   "outputs": [
    {
     "data": {
      "text/plain": [
       "356"
      ]
     },
     "execution_count": 52,
     "metadata": {},
     "output_type": "execute_result"
    }
   ],
   "source": [
    "len(location_stats[location_stats <= 10])"
   ]
  },
  {
   "cell_type": "markdown",
   "id": "86e3d8c4",
   "metadata": {},
   "source": [
    "Notice that there are 356 locations that are having properties less than 10 so we can categorize them as others which will help us in dimensionality reduction in our machine learning model."
   ]
  },
  {
   "cell_type": "code",
   "execution_count": 53,
   "id": "e4b35e2f",
   "metadata": {},
   "outputs": [],
   "source": [
    "locations10 = location_stats[location_stats <= 10]\n",
    "data['location'] = data['location'].apply(lambda x:'others' if x in locations10 else x)"
   ]
  },
  {
   "cell_type": "code",
   "execution_count": 54,
   "id": "29340112",
   "metadata": {},
   "outputs": [
    {
     "data": {
      "text/plain": [
       "282"
      ]
     },
     "execution_count": 54,
     "metadata": {},
     "output_type": "execute_result"
    }
   ],
   "source": [
    "data['location'].nunique()"
   ]
  },
  {
   "cell_type": "markdown",
   "id": "a8469a9c",
   "metadata": {},
   "source": [
    "Firstly there were 356 locations now we have 282 unique locations after dimensionality reduction."
   ]
  },
  {
   "cell_type": "code",
   "execution_count": 55,
   "id": "2a9f1bf3",
   "metadata": {},
   "outputs": [
    {
     "data": {
      "text/html": [
       "<div>\n",
       "<style scoped>\n",
       "    .dataframe tbody tr th:only-of-type {\n",
       "        vertical-align: middle;\n",
       "    }\n",
       "\n",
       "    .dataframe tbody tr th {\n",
       "        vertical-align: top;\n",
       "    }\n",
       "\n",
       "    .dataframe thead th {\n",
       "        text-align: right;\n",
       "    }\n",
       "</style>\n",
       "<table border=\"1\" class=\"dataframe\">\n",
       "  <thead>\n",
       "    <tr style=\"text-align: right;\">\n",
       "      <th></th>\n",
       "      <th>price</th>\n",
       "      <th>location</th>\n",
       "      <th>baths</th>\n",
       "      <th>area_sqft</th>\n",
       "      <th>bedrooms</th>\n",
       "      <th>Price_per_sqft</th>\n",
       "    </tr>\n",
       "  </thead>\n",
       "  <tbody>\n",
       "    <tr>\n",
       "      <th>23</th>\n",
       "      <td>3200000</td>\n",
       "      <td>Chungi Amar Sadhu</td>\n",
       "      <td>2</td>\n",
       "      <td>816.75</td>\n",
       "      <td>3</td>\n",
       "      <td>3917.967554</td>\n",
       "    </tr>\n",
       "    <tr>\n",
       "      <th>35</th>\n",
       "      <td>5500000</td>\n",
       "      <td>others</td>\n",
       "      <td>3</td>\n",
       "      <td>680.63</td>\n",
       "      <td>3</td>\n",
       "      <td>8080.748718</td>\n",
       "    </tr>\n",
       "    <tr>\n",
       "      <th>71</th>\n",
       "      <td>6000000</td>\n",
       "      <td>Allama Iqbal Town</td>\n",
       "      <td>2</td>\n",
       "      <td>544.50</td>\n",
       "      <td>3</td>\n",
       "      <td>11019.283747</td>\n",
       "    </tr>\n",
       "    <tr>\n",
       "      <th>72</th>\n",
       "      <td>5500000</td>\n",
       "      <td>Allama Iqbal Town</td>\n",
       "      <td>2</td>\n",
       "      <td>544.50</td>\n",
       "      <td>3</td>\n",
       "      <td>10101.010101</td>\n",
       "    </tr>\n",
       "    <tr>\n",
       "      <th>119</th>\n",
       "      <td>4500000</td>\n",
       "      <td>Al Faisal Town</td>\n",
       "      <td>3</td>\n",
       "      <td>544.50</td>\n",
       "      <td>3</td>\n",
       "      <td>8264.462810</td>\n",
       "    </tr>\n",
       "    <tr>\n",
       "      <th>...</th>\n",
       "      <td>...</td>\n",
       "      <td>...</td>\n",
       "      <td>...</td>\n",
       "      <td>...</td>\n",
       "      <td>...</td>\n",
       "      <td>...</td>\n",
       "    </tr>\n",
       "    <tr>\n",
       "      <th>58510</th>\n",
       "      <td>24000</td>\n",
       "      <td>Harbanspura</td>\n",
       "      <td>0</td>\n",
       "      <td>816.75</td>\n",
       "      <td>3</td>\n",
       "      <td>29.384757</td>\n",
       "    </tr>\n",
       "    <tr>\n",
       "      <th>58513</th>\n",
       "      <td>16000</td>\n",
       "      <td>Canal Bank Housing Scheme</td>\n",
       "      <td>0</td>\n",
       "      <td>544.50</td>\n",
       "      <td>3</td>\n",
       "      <td>29.384757</td>\n",
       "    </tr>\n",
       "    <tr>\n",
       "      <th>58519</th>\n",
       "      <td>8500</td>\n",
       "      <td>Gulberg</td>\n",
       "      <td>1</td>\n",
       "      <td>299.48</td>\n",
       "      <td>1</td>\n",
       "      <td>28.382530</td>\n",
       "    </tr>\n",
       "    <tr>\n",
       "      <th>58523</th>\n",
       "      <td>6000</td>\n",
       "      <td>Gulberg</td>\n",
       "      <td>1</td>\n",
       "      <td>299.48</td>\n",
       "      <td>1</td>\n",
       "      <td>20.034727</td>\n",
       "    </tr>\n",
       "    <tr>\n",
       "      <th>58721</th>\n",
       "      <td>55000</td>\n",
       "      <td>Allama Iqbal Town</td>\n",
       "      <td>0</td>\n",
       "      <td>816.75</td>\n",
       "      <td>3</td>\n",
       "      <td>67.340067</td>\n",
       "    </tr>\n",
       "  </tbody>\n",
       "</table>\n",
       "<p>7034 rows × 6 columns</p>\n",
       "</div>"
      ],
      "text/plain": [
       "         price                   location  baths  area_sqft  bedrooms  \\\n",
       "23     3200000          Chungi Amar Sadhu      2     816.75         3   \n",
       "35     5500000                     others      3     680.63         3   \n",
       "71     6000000          Allama Iqbal Town      2     544.50         3   \n",
       "72     5500000          Allama Iqbal Town      2     544.50         3   \n",
       "119    4500000             Al Faisal Town      3     544.50         3   \n",
       "...        ...                        ...    ...        ...       ...   \n",
       "58510    24000                Harbanspura      0     816.75         3   \n",
       "58513    16000  Canal Bank Housing Scheme      0     544.50         3   \n",
       "58519     8500                    Gulberg      1     299.48         1   \n",
       "58523     6000                    Gulberg      1     299.48         1   \n",
       "58721    55000          Allama Iqbal Town      0     816.75         3   \n",
       "\n",
       "       Price_per_sqft  \n",
       "23        3917.967554  \n",
       "35        8080.748718  \n",
       "71       11019.283747  \n",
       "72       10101.010101  \n",
       "119       8264.462810  \n",
       "...               ...  \n",
       "58510       29.384757  \n",
       "58513       29.384757  \n",
       "58519       28.382530  \n",
       "58523       20.034727  \n",
       "58721       67.340067  \n",
       "\n",
       "[7034 rows x 6 columns]"
      ]
     },
     "execution_count": 55,
     "metadata": {},
     "output_type": "execute_result"
    }
   ],
   "source": [
    "data[data['area_sqft'] / data['bedrooms'] < 300]"
   ]
  },
  {
   "cell_type": "markdown",
   "id": "f4897663",
   "metadata": {},
   "source": [
    "In the above cell we assume that on  minimum a bedroom must be more than 300 sq.ft so those that were not following that rule in our data we will be removing them as they will be considering them as outliers..."
   ]
  },
  {
   "cell_type": "code",
   "execution_count": 56,
   "id": "d15efb07",
   "metadata": {},
   "outputs": [],
   "source": [
    "data.drop(data[data['area_sqft'] / data['bedrooms'] < 300].index, inplace = True)"
   ]
  },
  {
   "cell_type": "code",
   "execution_count": 57,
   "id": "0c673625",
   "metadata": {},
   "outputs": [
    {
     "data": {
      "text/plain": [
       "count     47030.000000\n",
       "mean       5878.357118\n",
       "std        4442.900641\n",
       "min           0.000735\n",
       "25%          47.750054\n",
       "50%        6795.200018\n",
       "75%        8631.740563\n",
       "max      106519.742883\n",
       "Name: Price_per_sqft, dtype: float64"
      ]
     },
     "execution_count": 57,
     "metadata": {},
     "output_type": "execute_result"
    }
   ],
   "source": [
    "data['Price_per_sqft'].describe()"
   ]
  },
  {
   "cell_type": "markdown",
   "id": "83f6825d",
   "metadata": {},
   "source": [
    "Notice how much it is having standard deviation we are going to reduce it..."
   ]
  },
  {
   "cell_type": "code",
   "execution_count": 60,
   "id": "23abb4ea",
   "metadata": {},
   "outputs": [],
   "source": [
    "# removing price_per_sqft outliers \n",
    "\n",
    "def remove_pps_outliers(data):\n",
    "    data_out = pd.DataFrame()\n",
    "    for key,subdata in data.groupby('location'):\n",
    "        m = np.mean(subdata['Price_per_sqft'])\n",
    "        std = np.std(subdata['Price_per_sqft'])\n",
    "        reduced_data = subdata[(subdata['Price_per_sqft'] > (m-std)) & (subdata['Price_per_sqft'] <= (m+std))]\n",
    "        data_out = pd.concat([data_out,reduced_data], ignore_index=True)\n",
    "    return data_out"
   ]
  },
  {
   "cell_type": "code",
   "execution_count": 61,
   "id": "bfa13ed0",
   "metadata": {},
   "outputs": [
    {
     "data": {
      "text/plain": [
       "(31002, 6)"
      ]
     },
     "execution_count": 61,
     "metadata": {},
     "output_type": "execute_result"
    }
   ],
   "source": [
    "data = remove_pps_outliers(data)\n",
    "data.shape"
   ]
  },
  {
   "cell_type": "code",
   "execution_count": 62,
   "id": "cefa2652",
   "metadata": {},
   "outputs": [],
   "source": [
    "import matplotlib\n",
    "def plot_scatter_chart(data, location):\n",
    "    bedroom_2 = data[(data['location'] == location) & (data['bedrooms'] == 2)]\n",
    "    bedroom_3 = data[(data['location'] == location) & (data['bedrooms'] == 3)]\n",
    "    matplotlib.rcParams[\"figure.figsize\"] = (15,10)\n",
    "    plt.scatter(bedroom_2['area_sqft'], bedroom_2['price']/100000, color='blue', label=\"2 Bedroom\", s=50)\n",
    "    plt.scatter(bedroom_3['area_sqft'], bedroom_3['price']/100000, marker='+', color=\"green\", label=\"3 Bedroom\", s=50)\n",
    "    plt.xlabel(\"Total Square Feet Area\")\n",
    "    plt.ylabel(\"Price\")\n",
    "    plt.title(location)\n",
    "    plt.legend()"
   ]
  },
  {
   "cell_type": "code",
   "execution_count": 64,
   "id": "ecee5662",
   "metadata": {},
   "outputs": [
    {
     "data": {
      "image/png": "[encoded data removed]",
      "text/plain": [
       "<Figure size 1500x1000 with 1 Axes>"
      ]
     },
     "metadata": {},
     "output_type": "display_data"
    }
   ],
   "source": [
    "plot_scatter_chart(data, \"Gulberg\")"
   ]
  },
  {
   "cell_type": "markdown",
   "id": "597dc784",
   "metadata": {},
   "source": [
    "Notice in the above graph that there are some properties having 3 bedrooms still in less price than 2 bedrooms properties in a specfied location. Now they can also be considered as outliers and we should also remove them so that they cannot affect our model performance"
   ]
  }
 ],
 "metadata": {
  "kernelspec": {
   "display_name": "Python 3",
   "language": "python",
   "name": "python3"
  },
  "language_info": {
   "codemirror_mode": {
    "name": "ipython",
    "version": 3
   },
   "file_extension": ".py",
   "mimetype": "text/x-python",
   "name": "python",
   "nbconvert_exporter": "python",
   "pygments_lexer": "ipython3",
   "version": "3.12.6"
  }
 },
 "nbformat": 4,
 "nbformat_minor": 5
}
