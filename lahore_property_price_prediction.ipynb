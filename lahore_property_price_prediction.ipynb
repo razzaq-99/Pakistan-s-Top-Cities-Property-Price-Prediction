{
 "cells": [
  {
   "cell_type": "markdown",
   "id": "221fec60",
   "metadata": {},
   "source": [
    "**Our Problem Statement is to analyze the dataset of properties in Lahore and then building a model to predict its price using location, Area(Sq.ft), bedrooms, baths...**"
   ]
  },
  {
   "cell_type": "code",
   "execution_count": 1,
   "id": "665df72c",
   "metadata": {},
   "outputs": [],
   "source": [
    "import pandas as pd\n",
    "import numpy as np\n",
    "import matplotlib.pyplot as plt\n",
    "import seaborn as sns"
   ]
  },
  {
   "cell_type": "code",
   "execution_count": 2,
   "id": "e72c096f",
   "metadata": {},
   "outputs": [],
   "source": [
    "df = pd.read_csv('Property_with_Feature_Engineering.csv')"
   ]
  },
  {
   "cell_type": "code",
   "execution_count": 3,
   "id": "6c3aef43",
   "metadata": {},
   "outputs": [
    {
     "data": {
      "text/html": [
       "<div>\n",
       "<style scoped>\n",
       "    .dataframe tbody tr th:only-of-type {\n",
       "        vertical-align: middle;\n",
       "    }\n",
       "\n",
       "    .dataframe tbody tr th {\n",
       "        vertical-align: top;\n",
       "    }\n",
       "\n",
       "    .dataframe thead th {\n",
       "        text-align: right;\n",
       "    }\n",
       "</style>\n",
       "<table border=\"1\" class=\"dataframe\">\n",
       "  <thead>\n",
       "    <tr style=\"text-align: right;\">\n",
       "      <th></th>\n",
       "      <th>property_id</th>\n",
       "      <th>location_id</th>\n",
       "      <th>page_url</th>\n",
       "      <th>property_type</th>\n",
       "      <th>price</th>\n",
       "      <th>price_bin</th>\n",
       "      <th>location</th>\n",
       "      <th>city</th>\n",
       "      <th>province_name</th>\n",
       "      <th>locality</th>\n",
       "      <th>...</th>\n",
       "      <th>area_marla</th>\n",
       "      <th>area_sqft</th>\n",
       "      <th>purpose</th>\n",
       "      <th>bedrooms</th>\n",
       "      <th>date_added</th>\n",
       "      <th>year</th>\n",
       "      <th>month</th>\n",
       "      <th>day</th>\n",
       "      <th>agency</th>\n",
       "      <th>agent</th>\n",
       "    </tr>\n",
       "  </thead>\n",
       "  <tbody>\n",
       "    <tr>\n",
       "      <th>0</th>\n",
       "      <td>347795</td>\n",
       "      <td>8</td>\n",
       "      <td>https://www.zameen.com/Property/lahore_model_t...</td>\n",
       "      <td>House</td>\n",
       "      <td>220000000</td>\n",
       "      <td>Very High</td>\n",
       "      <td>Model Town</td>\n",
       "      <td>Lahore</td>\n",
       "      <td>Punjab</td>\n",
       "      <td>Model Town, Lahore, Punjab</td>\n",
       "      <td>...</td>\n",
       "      <td>120.0</td>\n",
       "      <td>32670.12</td>\n",
       "      <td>For Sale</td>\n",
       "      <td>0</td>\n",
       "      <td>07-17-2019</td>\n",
       "      <td>2019</td>\n",
       "      <td>7</td>\n",
       "      <td>17</td>\n",
       "      <td>Real Biz International</td>\n",
       "      <td>Usama Khan</td>\n",
       "    </tr>\n",
       "    <tr>\n",
       "      <th>1</th>\n",
       "      <td>482892</td>\n",
       "      <td>48</td>\n",
       "      <td>https://www.zameen.com/Property/lahore_multan_...</td>\n",
       "      <td>House</td>\n",
       "      <td>40000000</td>\n",
       "      <td>Very High</td>\n",
       "      <td>Multan Road</td>\n",
       "      <td>Lahore</td>\n",
       "      <td>Punjab</td>\n",
       "      <td>Multan Road, Lahore, Punjab</td>\n",
       "      <td>...</td>\n",
       "      <td>20.0</td>\n",
       "      <td>5445.02</td>\n",
       "      <td>For Sale</td>\n",
       "      <td>5</td>\n",
       "      <td>10-06-2018</td>\n",
       "      <td>2018</td>\n",
       "      <td>10</td>\n",
       "      <td>6</td>\n",
       "      <td>Khan Estate</td>\n",
       "      <td>mohsinkhan and B</td>\n",
       "    </tr>\n",
       "  </tbody>\n",
       "</table>\n",
       "<p>2 rows × 24 columns</p>\n",
       "</div>"
      ],
      "text/plain": [
       "   property_id  location_id  \\\n",
       "0       347795            8   \n",
       "1       482892           48   \n",
       "\n",
       "                                            page_url property_type      price  \\\n",
       "0  https://www.zameen.com/Property/lahore_model_t...         House  220000000   \n",
       "1  https://www.zameen.com/Property/lahore_multan_...         House   40000000   \n",
       "\n",
       "   price_bin     location    city province_name                     locality  \\\n",
       "0  Very High   Model Town  Lahore        Punjab   Model Town, Lahore, Punjab   \n",
       "1  Very High  Multan Road  Lahore        Punjab  Multan Road, Lahore, Punjab   \n",
       "\n",
       "   ...  area_marla  area_sqft   purpose bedrooms  date_added  year month  day  \\\n",
       "0  ...       120.0   32670.12  For Sale        0  07-17-2019  2019     7   17   \n",
       "1  ...        20.0    5445.02  For Sale        5  10-06-2018  2018    10    6   \n",
       "\n",
       "                   agency             agent  \n",
       "0  Real Biz International        Usama Khan  \n",
       "1             Khan Estate  mohsinkhan and B  \n",
       "\n",
       "[2 rows x 24 columns]"
      ]
     },
     "execution_count": 3,
     "metadata": {},
     "output_type": "execute_result"
    }
   ],
   "source": [
    "df.head(2)"
   ]
  },
  {
   "cell_type": "code",
   "execution_count": 7,
   "id": "4481bbbc",
   "metadata": {},
   "outputs": [
    {
     "name": "stdout",
     "output_type": "stream",
     "text": [
      "['Lahore' 'Karachi' 'Islamabad' 'Faisalabad' 'Rawalpindi']\n"
     ]
    }
   ],
   "source": [
    "## Checking which cities of Pakistan are present in the dataset\n",
    "print(df['city'].unique())\n"
   ]
  },
  {
   "cell_type": "code",
   "execution_count": 8,
   "id": "82dc5b0e",
   "metadata": {},
   "outputs": [
    {
     "data": {
      "text/plain": [
       "(191393, 24)"
      ]
     },
     "execution_count": 8,
     "metadata": {},
     "output_type": "execute_result"
    }
   ],
   "source": [
    "df.shape"
   ]
  },
  {
   "cell_type": "code",
   "execution_count": 9,
   "id": "68e36ffd",
   "metadata": {},
   "outputs": [
    {
     "data": {
      "text/plain": [
       "(58736, 24)"
      ]
     },
     "execution_count": 9,
     "metadata": {},
     "output_type": "execute_result"
    }
   ],
   "source": [
    "data = df[df['city']=='Lahore']\n",
    "data.shape"
   ]
  },
  {
   "cell_type": "code",
   "execution_count": 10,
   "id": "13a2caea",
   "metadata": {},
   "outputs": [],
   "source": [
    "# dropping unnecessary columns\n",
    "\n",
    "col_names = [\"location_id\",\"page_url\",\"province_name\",\"locality\",\"area_marla\",\"year\",\"month\",\"day\",\"agency\",\"agent\",\"latitude\",\"longitude\",\"property_id\",\"property_type\",\"price_bin\",\"purpose\",\"date_added\",\"city\",\"area\"]\n",
    "data = data.drop(col_names, axis=1)"
   ]
  },
  {
   "cell_type": "code",
   "execution_count": 12,
   "id": "d04785b8",
   "metadata": {},
   "outputs": [
    {
     "data": {
      "text/html": [
       "<div>\n",
       "<style scoped>\n",
       "    .dataframe tbody tr th:only-of-type {\n",
       "        vertical-align: middle;\n",
       "    }\n",
       "\n",
       "    .dataframe tbody tr th {\n",
       "        vertical-align: top;\n",
       "    }\n",
       "\n",
       "    .dataframe thead th {\n",
       "        text-align: right;\n",
       "    }\n",
       "</style>\n",
       "<table border=\"1\" class=\"dataframe\">\n",
       "  <thead>\n",
       "    <tr style=\"text-align: right;\">\n",
       "      <th></th>\n",
       "      <th>price</th>\n",
       "      <th>location</th>\n",
       "      <th>baths</th>\n",
       "      <th>area_sqft</th>\n",
       "      <th>bedrooms</th>\n",
       "    </tr>\n",
       "  </thead>\n",
       "  <tbody>\n",
       "    <tr>\n",
       "      <th>0</th>\n",
       "      <td>220000000</td>\n",
       "      <td>Model Town</td>\n",
       "      <td>0</td>\n",
       "      <td>32670.12</td>\n",
       "      <td>0</td>\n",
       "    </tr>\n",
       "    <tr>\n",
       "      <th>1</th>\n",
       "      <td>40000000</td>\n",
       "      <td>Multan Road</td>\n",
       "      <td>5</td>\n",
       "      <td>5445.02</td>\n",
       "      <td>5</td>\n",
       "    </tr>\n",
       "    <tr>\n",
       "      <th>2</th>\n",
       "      <td>9500000</td>\n",
       "      <td>Eden</td>\n",
       "      <td>0</td>\n",
       "      <td>2450.26</td>\n",
       "      <td>3</td>\n",
       "    </tr>\n",
       "    <tr>\n",
       "      <th>3</th>\n",
       "      <td>125000000</td>\n",
       "      <td>Gulberg</td>\n",
       "      <td>7</td>\n",
       "      <td>5445.02</td>\n",
       "      <td>8</td>\n",
       "    </tr>\n",
       "    <tr>\n",
       "      <th>4</th>\n",
       "      <td>21000000</td>\n",
       "      <td>Allama Iqbal Town</td>\n",
       "      <td>5</td>\n",
       "      <td>2994.76</td>\n",
       "      <td>6</td>\n",
       "    </tr>\n",
       "  </tbody>\n",
       "</table>\n",
       "</div>"
      ],
      "text/plain": [
       "       price           location  baths  area_sqft  bedrooms\n",
       "0  220000000         Model Town      0   32670.12         0\n",
       "1   40000000        Multan Road      5    5445.02         5\n",
       "2    9500000               Eden      0    2450.26         3\n",
       "3  125000000            Gulberg      7    5445.02         8\n",
       "4   21000000  Allama Iqbal Town      5    2994.76         6"
      ]
     },
     "execution_count": 12,
     "metadata": {},
     "output_type": "execute_result"
    }
   ],
   "source": [
    "data = data.reset_index()\n",
    "data = data.drop(\"index\",axis=1)\n",
    "data.head()"
   ]
  },
  {
   "cell_type": "code",
   "execution_count": 13,
   "id": "d9f14bbc",
   "metadata": {},
   "outputs": [
    {
     "data": {
      "text/plain": [
       "price        0\n",
       "location     0\n",
       "baths        0\n",
       "area_sqft    0\n",
       "bedrooms     0\n",
       "dtype: int64"
      ]
     },
     "execution_count": 13,
     "metadata": {},
     "output_type": "execute_result"
    }
   ],
   "source": [
    "data.isnull().sum()"
   ]
  },
  {
   "cell_type": "code",
   "execution_count": 16,
   "id": "813cd051",
   "metadata": {},
   "outputs": [
    {
     "data": {
      "text/plain": [
       "array([ 0,  5,  3,  8,  6,  4,  2,  7,  1, 10, 11,  9, 14, 12, 13, 18, 15,\n",
       "       16, 25, 20])"
      ]
     },
     "execution_count": 16,
     "metadata": {},
     "output_type": "execute_result"
    }
   ],
   "source": [
    "data['bedrooms'].unique()"
   ]
  },
  {
   "cell_type": "markdown",
   "id": "4cdfcdbc",
   "metadata": {},
   "source": [
    "In the above cell, there are some properties which have bedrooms even greater than 10...This could be possible that some of them could be typo error while others can be having other errors in them as well like very less baths or no baths...Lets inspect the properties that are having bedrooms more than 13"
   ]
  },
  {
   "cell_type": "code",
   "execution_count": 17,
   "id": "d3784b7f",
   "metadata": {},
   "outputs": [
    {
     "data": {
      "text/html": [
       "<div>\n",
       "<style scoped>\n",
       "    .dataframe tbody tr th:only-of-type {\n",
       "        vertical-align: middle;\n",
       "    }\n",
       "\n",
       "    .dataframe tbody tr th {\n",
       "        vertical-align: top;\n",
       "    }\n",
       "\n",
       "    .dataframe thead th {\n",
       "        text-align: right;\n",
       "    }\n",
       "</style>\n",
       "<table border=\"1\" class=\"dataframe\">\n",
       "  <thead>\n",
       "    <tr style=\"text-align: right;\">\n",
       "      <th></th>\n",
       "      <th>price</th>\n",
       "      <th>location</th>\n",
       "      <th>baths</th>\n",
       "      <th>area_sqft</th>\n",
       "      <th>bedrooms</th>\n",
       "    </tr>\n",
       "  </thead>\n",
       "  <tbody>\n",
       "    <tr>\n",
       "      <th>1099</th>\n",
       "      <td>100000000</td>\n",
       "      <td>Garden Town</td>\n",
       "      <td>0</td>\n",
       "      <td>10890.04</td>\n",
       "      <td>14</td>\n",
       "    </tr>\n",
       "    <tr>\n",
       "      <th>19710</th>\n",
       "      <td>650000000</td>\n",
       "      <td>Gulberg</td>\n",
       "      <td>0</td>\n",
       "      <td>25047.09</td>\n",
       "      <td>18</td>\n",
       "    </tr>\n",
       "    <tr>\n",
       "      <th>21817</th>\n",
       "      <td>175000000</td>\n",
       "      <td>Shah Jamal</td>\n",
       "      <td>0</td>\n",
       "      <td>26136.10</td>\n",
       "      <td>15</td>\n",
       "    </tr>\n",
       "    <tr>\n",
       "      <th>28454</th>\n",
       "      <td>350000000</td>\n",
       "      <td>Gulberg</td>\n",
       "      <td>0</td>\n",
       "      <td>17424.06</td>\n",
       "      <td>16</td>\n",
       "    </tr>\n",
       "    <tr>\n",
       "      <th>38558</th>\n",
       "      <td>175000000</td>\n",
       "      <td>Shah Jamal</td>\n",
       "      <td>0</td>\n",
       "      <td>26136.10</td>\n",
       "      <td>15</td>\n",
       "    </tr>\n",
       "    <tr>\n",
       "      <th>39985</th>\n",
       "      <td>960000000</td>\n",
       "      <td>Gulberg</td>\n",
       "      <td>0</td>\n",
       "      <td>43560.16</td>\n",
       "      <td>25</td>\n",
       "    </tr>\n",
       "    <tr>\n",
       "      <th>51998</th>\n",
       "      <td>960000000</td>\n",
       "      <td>Gulberg</td>\n",
       "      <td>0</td>\n",
       "      <td>43560.16</td>\n",
       "      <td>25</td>\n",
       "    </tr>\n",
       "    <tr>\n",
       "      <th>53342</th>\n",
       "      <td>1000000</td>\n",
       "      <td>Gulberg</td>\n",
       "      <td>0</td>\n",
       "      <td>21780.08</td>\n",
       "      <td>20</td>\n",
       "    </tr>\n",
       "    <tr>\n",
       "      <th>57580</th>\n",
       "      <td>300000</td>\n",
       "      <td>Habibullah Road</td>\n",
       "      <td>0</td>\n",
       "      <td>8712.03</td>\n",
       "      <td>20</td>\n",
       "    </tr>\n",
       "  </tbody>\n",
       "</table>\n",
       "</div>"
      ],
      "text/plain": [
       "           price         location  baths  area_sqft  bedrooms\n",
       "1099   100000000      Garden Town      0   10890.04        14\n",
       "19710  650000000          Gulberg      0   25047.09        18\n",
       "21817  175000000       Shah Jamal      0   26136.10        15\n",
       "28454  350000000          Gulberg      0   17424.06        16\n",
       "38558  175000000       Shah Jamal      0   26136.10        15\n",
       "39985  960000000          Gulberg      0   43560.16        25\n",
       "51998  960000000          Gulberg      0   43560.16        25\n",
       "53342    1000000          Gulberg      0   21780.08        20\n",
       "57580     300000  Habibullah Road      0    8712.03        20"
      ]
     },
     "execution_count": 17,
     "metadata": {},
     "output_type": "execute_result"
    }
   ],
   "source": [
    "data[data['bedrooms']>13]"
   ]
  },
  {
   "cell_type": "code",
   "execution_count": 18,
   "id": "8e0d3dae",
   "metadata": {},
   "outputs": [
    {
     "data": {
      "text/plain": [
       "array([ 0,  5,  7,  6,  4,  3,  2,  8,  1, 10,  9, 11, 12, 15])"
      ]
     },
     "execution_count": 18,
     "metadata": {},
     "output_type": "execute_result"
    }
   ],
   "source": [
    "data['baths'].unique()"
   ]
  },
  {
   "cell_type": "code",
   "execution_count": 19,
   "id": "33be470e",
   "metadata": {},
   "outputs": [
    {
     "data": {
      "text/html": [
       "<div>\n",
       "<style scoped>\n",
       "    .dataframe tbody tr th:only-of-type {\n",
       "        vertical-align: middle;\n",
       "    }\n",
       "\n",
       "    .dataframe tbody tr th {\n",
       "        vertical-align: top;\n",
       "    }\n",
       "\n",
       "    .dataframe thead th {\n",
       "        text-align: right;\n",
       "    }\n",
       "</style>\n",
       "<table border=\"1\" class=\"dataframe\">\n",
       "  <thead>\n",
       "    <tr style=\"text-align: right;\">\n",
       "      <th></th>\n",
       "      <th>price</th>\n",
       "      <th>location</th>\n",
       "      <th>baths</th>\n",
       "      <th>area_sqft</th>\n",
       "      <th>bedrooms</th>\n",
       "    </tr>\n",
       "  </thead>\n",
       "  <tbody>\n",
       "    <tr>\n",
       "      <th>0</th>\n",
       "      <td>220000000</td>\n",
       "      <td>Model Town</td>\n",
       "      <td>0</td>\n",
       "      <td>32670.12</td>\n",
       "      <td>0</td>\n",
       "    </tr>\n",
       "    <tr>\n",
       "      <th>1</th>\n",
       "      <td>40000000</td>\n",
       "      <td>Multan Road</td>\n",
       "      <td>5</td>\n",
       "      <td>5445.02</td>\n",
       "      <td>5</td>\n",
       "    </tr>\n",
       "    <tr>\n",
       "      <th>2</th>\n",
       "      <td>9500000</td>\n",
       "      <td>Eden</td>\n",
       "      <td>0</td>\n",
       "      <td>2450.26</td>\n",
       "      <td>3</td>\n",
       "    </tr>\n",
       "    <tr>\n",
       "      <th>3</th>\n",
       "      <td>125000000</td>\n",
       "      <td>Gulberg</td>\n",
       "      <td>7</td>\n",
       "      <td>5445.02</td>\n",
       "      <td>8</td>\n",
       "    </tr>\n",
       "    <tr>\n",
       "      <th>4</th>\n",
       "      <td>21000000</td>\n",
       "      <td>Allama Iqbal Town</td>\n",
       "      <td>5</td>\n",
       "      <td>2994.76</td>\n",
       "      <td>6</td>\n",
       "    </tr>\n",
       "    <tr>\n",
       "      <th>...</th>\n",
       "      <td>...</td>\n",
       "      <td>...</td>\n",
       "      <td>...</td>\n",
       "      <td>...</td>\n",
       "      <td>...</td>\n",
       "    </tr>\n",
       "    <tr>\n",
       "      <th>58730</th>\n",
       "      <td>32000</td>\n",
       "      <td>Allama Iqbal Town</td>\n",
       "      <td>0</td>\n",
       "      <td>2722.51</td>\n",
       "      <td>2</td>\n",
       "    </tr>\n",
       "    <tr>\n",
       "      <th>58732</th>\n",
       "      <td>185000</td>\n",
       "      <td>DHA Defence</td>\n",
       "      <td>6</td>\n",
       "      <td>5445.02</td>\n",
       "      <td>5</td>\n",
       "    </tr>\n",
       "    <tr>\n",
       "      <th>58733</th>\n",
       "      <td>150000</td>\n",
       "      <td>DHA Defence</td>\n",
       "      <td>5</td>\n",
       "      <td>2722.51</td>\n",
       "      <td>4</td>\n",
       "    </tr>\n",
       "    <tr>\n",
       "      <th>58734</th>\n",
       "      <td>70000</td>\n",
       "      <td>DHA Defence</td>\n",
       "      <td>3</td>\n",
       "      <td>5445.02</td>\n",
       "      <td>3</td>\n",
       "    </tr>\n",
       "    <tr>\n",
       "      <th>58735</th>\n",
       "      <td>70000</td>\n",
       "      <td>Bahria Town</td>\n",
       "      <td>4</td>\n",
       "      <td>1361.25</td>\n",
       "      <td>3</td>\n",
       "    </tr>\n",
       "  </tbody>\n",
       "</table>\n",
       "<p>54407 rows × 5 columns</p>\n",
       "</div>"
      ],
      "text/plain": [
       "           price           location  baths  area_sqft  bedrooms\n",
       "0      220000000         Model Town      0   32670.12         0\n",
       "1       40000000        Multan Road      5    5445.02         5\n",
       "2        9500000               Eden      0    2450.26         3\n",
       "3      125000000            Gulberg      7    5445.02         8\n",
       "4       21000000  Allama Iqbal Town      5    2994.76         6\n",
       "...          ...                ...    ...        ...       ...\n",
       "58730      32000  Allama Iqbal Town      0    2722.51         2\n",
       "58732     185000        DHA Defence      6    5445.02         5\n",
       "58733     150000        DHA Defence      5    2722.51         4\n",
       "58734      70000        DHA Defence      3    5445.02         3\n",
       "58735      70000        Bahria Town      4    1361.25         3\n",
       "\n",
       "[54407 rows x 5 columns]"
      ]
     },
     "execution_count": 19,
     "metadata": {},
     "output_type": "execute_result"
    }
   ],
   "source": [
    "data = data.drop(data[(data['baths']==0) & (data['bedrooms'] > 3)].index)\n",
    "data"
   ]
  },
  {
   "cell_type": "markdown",
   "id": "2cc7d463",
   "metadata": {},
   "source": [
    "In the above cell we have dropped those indexes that are having no baths and having bedrooms greater than 3 cause they can probably be a typo error."
   ]
  },
  {
   "cell_type": "code",
   "execution_count": 25,
   "id": "c3d1ec1d",
   "metadata": {},
   "outputs": [],
   "source": [
    "data.drop(data[data['bedrooms']==0 | (data['baths']==0)].index, inplace=True)\n"
   ]
  },
  {
   "cell_type": "markdown",
   "id": "10c71746",
   "metadata": {},
   "source": [
    "We have also dropped those properties that are either having no bedrooms or no baths in the above cell..."
   ]
  },
  {
   "cell_type": "markdown",
   "id": "73802e74",
   "metadata": {},
   "source": []
  }
 ],
 "metadata": {
  "kernelspec": {
   "display_name": "Python 3",
   "language": "python",
   "name": "python3"
  },
  "language_info": {
   "codemirror_mode": {
    "name": "ipython",
    "version": 3
   },
   "file_extension": ".py",
   "mimetype": "text/x-python",
   "name": "python",
   "nbconvert_exporter": "python",
   "pygments_lexer": "ipython3",
   "version": "3.12.6"
  }
 },
 "nbformat": 4,
 "nbformat_minor": 5
}
